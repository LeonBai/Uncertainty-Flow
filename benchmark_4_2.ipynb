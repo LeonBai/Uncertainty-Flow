{
 "cells": [
  {
   "cell_type": "markdown",
   "metadata": {
    "deletable": true,
    "editable": true
   },
   "source": [
    "### Single Train/ Multiple Output BCNN \n",
    "\n",
    "1. BCNN -base model"
   ]
  },
  {
   "cell_type": "code",
   "execution_count": 1,
   "metadata": {
    "collapsed": true,
    "deletable": true,
    "editable": true
   },
   "outputs": [],
   "source": [
    "%matplotlib inline\n",
    "\n",
    "import theano\n",
    "import pymc3 as pm\n",
    "import theano.tensor as T\n",
    "import sklearn\n",
    "import numpy as np\n",
    "import matplotlib.pyplot as plt\n",
    "import seaborn as sns\n",
    "from warnings import filterwarnings\n",
    "filterwarnings('ignore')\n",
    "sns.set_style('white')\n",
    "import lasagne"
   ]
  },
  {
   "cell_type": "code",
   "execution_count": 2,
   "metadata": {
    "collapsed": false,
    "deletable": true,
    "editable": true
   },
   "outputs": [
    {
     "name": "stderr",
     "output_type": "stream",
     "text": [
      "Using TensorFlow backend.\n"
     ]
    }
   ],
   "source": [
    "\n",
    "import data_utils\n",
    "\n",
    "Train_x, Train_y, Test_x, Test_y = data_utils.load_data()\n",
    "\n",
    "\n",
    "Train_x = np.asarray(Train_x)\n",
    "Train_y = np.asarray(Train_y)\n",
    "Test_x  = np.asarray(Test_x)\n",
    "Test_y  = np.asarray(Test_y)\n",
    "\n",
    "## Training and Testing Input\n",
    "\n",
    "X_train_single = Train_x[200:1700]\n",
    "\n",
    "X_test_multi = Train_x[:200]\n",
    "## Training and Testing Output\n",
    "\n",
    "from sklearn.preprocessing import MultiLabelBinarizer\n",
    "\n",
    "y = np.load('../behav_Exp/pri_sec_emotion.npy')\n",
    "\n",
    "from keras.utils import to_categorical\n",
    "\n",
    "y_train = Train_y[200:1700]\n",
    "\n",
    "mlb = MultiLabelBinarizer()\n",
    "y_test = mlb.fit_transform(y)\n"
   ]
  },
  {
   "cell_type": "code",
   "execution_count": 6,
   "metadata": {
    "collapsed": false,
    "deletable": true,
    "editable": true
   },
   "outputs": [],
   "source": [
    "## Reshape the input value\n",
    "\n",
    "X_train = X_train_single.reshape(X_train_single.shape[0], 1, 48, 48)\n",
    "X_test  = X_test_multi.reshape(X_test_multi.shape[0], 1, 48, 48)"
   ]
  },
  {
   "cell_type": "code",
   "execution_count": 44,
   "metadata": {
    "collapsed": false,
    "deletable": true,
    "editable": true
   },
   "outputs": [],
   "source": [
    "# BCNN on FER2000 First Tryout\n",
    "## remove dropout for its issue for shape inconsistency \n",
    "import lasagne\n",
    "total_size = len(y_train)\n",
    "ann_input_minibatch = pm.Minibatch(X_train, batch_size = 50)\n",
    "ann_output_minibatch = pm.Minibatch(y_train, batch_size = 50)\n",
    "\n",
    "\n",
    "n_hidden = 100\n",
    "\n",
    "# Initialize random weights between each layer\n",
    "\n",
    "init_1 = np.random.randn( 32, 1, 5, 5)\n",
    "init_2 = np.random.randn(32, 32, 5, 5)\n",
    "init_out = np.random.randn(9*9*32, 7)\n",
    "    \n",
    "with pm.Model() as neural_network:\n",
    "    \n",
    "    # Priors for Weight\n",
    "    c_in_1 = pm.Cauchy('r_in_1',-1, 2.5)\n",
    "    c_1_2 =  pm.Cauchy('r_1_2', 0, 2)\n",
    "    c_2_out = pm.Cauchy('r_2_out',0,1.5)\n",
    "\n",
    "    # Weights from input to hidden layer\n",
    "    weights_in_1 = pm.Normal('w_in_1',0.3, c_in_1, \n",
    "                             shape=( 32, 1, 5, 5), \n",
    "                             testval = init_1)\n",
    "    \n",
    "    weights_1_2  = pm.Normal('w_1_2',0.2, c_1_2, \n",
    "                            shape =(32, 32, 5, 5),\n",
    "                            testval = init_2)\n",
    "     \n",
    "    weights_2_out = pm.Normal('w_2_out',0.3, c_2_out, \n",
    "                            shape=(9*9*32, 7), \n",
    "                            testval = init_out)\n",
    "    \n",
    "    # Build neural-network using tanh activation function\n",
    "    in_1 = lasagne.layers.InputLayer((None, 1, 48, 48), \n",
    "                                       input_var=ann_input_minibatch)\n",
    "    \n",
    "    conv_1 = lasagne.layers.Conv2DLayer(in_1, num_filters=32, filter_size=(5, 5), \n",
    "                                      W=weights_in_1, \n",
    "                                      nonlinearity=lasagne.nonlinearities.tanh)\n",
    "    \n",
    "    #drop_1 = lasagne.layers.DropoutLayer(conv_1, p=0.2)\n",
    "    \n",
    "    \n",
    "    pool_1 = lasagne.layers.MaxPool2DLayer(conv_1, pool_size=(2, 2))\n",
    "    \n",
    "    \n",
    "    conv_2 = lasagne.layers.Conv2DLayer(pool_1, num_filters=32, filter_size=(5, 5), \n",
    "                                      W=weights_1_2, \n",
    "                                      nonlinearity=lasagne.nonlinearities.tanh)\n",
    "    \n",
    "    #drop_2 = lasagne.layers.DropoutLayer(conv_2, p = 0.2)\n",
    "    \n",
    "    pool_2 = lasagne.layers.MaxPool2DLayer(conv_2, pool_size=(2, 2))\n",
    "        \n",
    "    act_out = lasagne.layers.DenseLayer(pool_2, 7, \n",
    "                                        W=weights_2_out,\n",
    "                                        nonlinearity=lasagne.nonlinearities.softmax)\n",
    "   \n",
    "    # Method 1: use model.get_output(from lasagne or Theano)\n",
    "    #prediction = lasagne.layers.get_output(act_out)\n",
    "    \n",
    "    # Method 2: add one determininstic layer right after the final dense connection layer\n",
    "    prediction = pm.Deterministic('p', lasagne.layers.get_output(act_out))\n",
    "    \n",
    "    #p = pm.Deterministic('p', T.nnet.softmax(net_out))\n",
    "    # Binary classification -> Bernoulli likelihood\n",
    "    out = pm.Categorical('out', \n",
    "                       prediction,\n",
    "                       observed=(ann_output_minibatch),\n",
    "                        total_size = total_size)\n",
    "    ### Whether or not to flatten the prediction differs between Bernoulli and Categorical Distribution "
   ]
  },
  {
   "cell_type": "code",
   "execution_count": 45,
   "metadata": {
    "collapsed": false,
    "deletable": true,
    "editable": true
   },
   "outputs": [
    {
     "name": "stderr",
     "output_type": "stream",
     "text": [
      "Average Loss = inf: 100%|██████████| 3500/3500 [22:39<00:00,  2.37it/s]\n",
      "Finished [100%]: Average Loss = 7.8561e+07\n"
     ]
    }
   ],
   "source": [
    "with neural_network:\n",
    "    # Run ADVI which returns posterior means, standard deviations, and the evidence lower bound (ELBO)\n",
    "    inference = pm.ADVI()\n",
    "    approx = pm.fit(n=3500, method=inference,callbacks=[pm.callbacks.CheckParametersConvergence(diff='absolute')])"
   ]
  },
  {
   "cell_type": "code",
   "execution_count": 46,
   "metadata": {
    "collapsed": false,
    "deletable": true,
    "editable": true
   },
   "outputs": [
    {
     "data": {
      "text/plain": [
       "[<matplotlib.lines.Line2D at 0x14df17b90>]"
      ]
     },
     "execution_count": 46,
     "metadata": {},
     "output_type": "execute_result"
    },
    {
     "data": {
      "image/png": "[encoded data removed]",
      "text/plain": [
       "<matplotlib.figure.Figure at 0x163572d10>"
      ]
     },
     "metadata": {},
     "output_type": "display_data"
    }
   ],
   "source": [
    "plt.plot(approx.hist)"
   ]
  },
  {
   "cell_type": "code",
   "execution_count": 47,
   "metadata": {
    "collapsed": true,
    "deletable": true,
    "editable": true
   },
   "outputs": [],
   "source": [
    "x= T.tensor4('X')\n",
    "\n",
    "# symbolic number of samples is supported, we build vectorized posterior on the fly\n",
    "n = T.iscalar('n')\n",
    "# Do not forget test_values or set theano.config.compute_test_value = 'off'\n",
    "#x.tag.test_value = np.empty_like(X_train[:10])\n",
    "x.tag.test_value = np.empty_like(X_train)\n",
    "n.tag.test_value = 100\n",
    "\n",
    "_sample_proba = approx.sample_node(neural_network.out.distribution.p,\n",
    "                                   size=n,\n",
    "                                   more_replacements={ann_input_minibatch: x})\n",
    "# It is time to compile the function\n",
    "# No updates are needed for Approximation random generator\n",
    "# Efficient vectorized form of sampling is used\n",
    "sample_proba = theano.function([x, n], _sample_proba)"
   ]
  },
  {
   "cell_type": "code",
   "execution_count": 48,
   "metadata": {
    "collapsed": true,
    "deletable": true,
    "editable": true
   },
   "outputs": [],
   "source": [
    "pred = sample_proba(X_test, 500)"
   ]
  },
  {
   "cell_type": "code",
   "execution_count": 49,
   "metadata": {
    "collapsed": true,
    "deletable": true,
    "editable": true
   },
   "outputs": [],
   "source": [
    "pred_ = pred.mean(axis = 0)\n",
    "\n",
    "a = pred_\n",
    "\n",
    "a[np.arange(len(a)),a.argmax(1)] = -1 \n",
    "\n",
    "a[np.arange(len(a)),a.argmax(1)] = 1\n",
    "\n",
    "a[np.arange(len(a)),a.argmin(1)] = 1\n",
    "\n",
    "a[a != 1] = 0"
   ]
  },
  {
   "cell_type": "code",
   "execution_count": 50,
   "metadata": {
    "collapsed": false,
    "deletable": true,
    "editable": true
   },
   "outputs": [
    {
     "name": "stdout",
     "output_type": "stream",
     "text": [
      "Hamming Loss: 0.401428571429\n",
      "Convergence Error: 6.675\n",
      "Label Ranking loss: 0.7595\n",
      "F1-scores(Weighted) 0.240862839718\n",
      "F1-scores(Micro) 0.284987277354\n",
      "F1-scores(Macro) 0.23310328587\n",
      "F1-scores(Samples) 0.2825\n",
      "Average Precision 0.416189208963\n"
     ]
    }
   ],
   "source": [
    "from sklearn.metrics import *\n",
    "print 'Hamming Loss:', hamming_loss(y_test, a)\n",
    "print 'Convergence Error:', coverage_error(y_test, a)\n",
    "print 'Label Ranking loss:', label_ranking_loss(y_test, a)\n",
    "print 'F1-scores(Weighted)', f1_score(y_test, a, average='weighted')\n",
    "print 'F1-scores(Micro)', f1_score(y_test, a, average='micro')\n",
    "print 'F1-scores(Macro)', f1_score(y_test, a, average='macro')\n",
    "print 'F1-scores(Samples)', f1_score(y_test, a, average='samples')\n",
    "print 'Average Precision', average_precision_score(y_test,a)"
   ]
  },
  {
   "cell_type": "code",
   "execution_count": 51,
   "metadata": {
    "collapsed": true,
    "deletable": true,
    "editable": true
   },
   "outputs": [],
   "source": [
    "Uncert = pred.std(axis = 0)\n",
    "b = Uncert\n",
    "\n",
    "b[np.arange(len(b)), b.argmin(1)] = 2 \n",
    "\n",
    "b[np.arange(len(b)), b.argmin(1)] = 1\n",
    "\n",
    "b[np.arange(len(b)), b.argmax(1)] = 1\n",
    "\n",
    "b[b != 1] = 0"
   ]
  },
  {
   "cell_type": "code",
   "execution_count": 52,
   "metadata": {
    "collapsed": false,
    "deletable": true,
    "editable": true
   },
   "outputs": [
    {
     "name": "stdout",
     "output_type": "stream",
     "text": [
      "Hamming Loss: 0.395714285714\n",
      "Convergence Error: 6.8\n",
      "Label Ranking loss: 0.755333333333\n",
      "F1-scores(Weighted) 0.220816947075\n",
      "F1-scores(Micro) 0.295165394402\n",
      "F1-scores(Macro) 0.209199096897\n",
      "F1-scores(Samples) 0.293333333333\n",
      "Average Precision 0.389461472978\n"
     ]
    }
   ],
   "source": [
    "from sklearn.metrics import *\n",
    "print 'Hamming Loss:', hamming_loss(y_test, b)\n",
    "print 'Convergence Error:', coverage_error(y_test, b)\n",
    "print 'Label Ranking loss:', label_ranking_loss(y_test, b)\n",
    "print 'F1-scores(Weighted)', f1_score(y_test, b, average='weighted')\n",
    "print 'F1-scores(Micro)', f1_score(y_test, b, average='micro')\n",
    "print 'F1-scores(Macro)', f1_score(y_test, b, average='macro')\n",
    "print 'F1-scores(Samples)', f1_score(y_test, b, average='samples')\n",
    "print 'Average Precision', average_precision_score(y_test,b)\n"
   ]
  },
  {
   "cell_type": "code",
   "execution_count": 53,
   "metadata": {
    "collapsed": true,
    "deletable": true,
    "editable": true
   },
   "outputs": [],
   "source": [
    "softmax_prob = pred.mean(axis = 0)\n",
    "c = (softmax_prob / Uncert) "
   ]
  },
  {
   "cell_type": "code",
   "execution_count": 54,
   "metadata": {
    "collapsed": true,
    "deletable": true,
    "editable": true
   },
   "outputs": [],
   "source": [
    "d = c\n",
    "d[np.arange(len(d)),d.argmax(1)] = -1 \n",
    "\n",
    "d[np.arange(len(d)),d.argmax(1)] = 1\n",
    "\n",
    "d[np.arange(len(a)),d.argmin(1)] = 1\n",
    "\n",
    "d[d != 1] = 0"
   ]
  },
  {
   "cell_type": "code",
   "execution_count": 55,
   "metadata": {
    "collapsed": false,
    "deletable": true,
    "editable": true
   },
   "outputs": [
    {
     "name": "stdout",
     "output_type": "stream",
     "text": [
      "Hamming Loss: 0.401428571429\n",
      "Convergence Error: 6.75\n",
      "Label Ranking loss: 0.759\n",
      "F1-scores(Weighted) 0.151181696006\n",
      "F1-scores(Micro) 0.284987277354\n",
      "F1-scores(Macro) 0.14006969923\n",
      "F1-scores(Samples) 0.285\n",
      "Average Precision 0.5758206197\n"
     ]
    }
   ],
   "source": [
    "from sklearn.metrics import *\n",
    "print 'Hamming Loss:', hamming_loss(y_test, d)\n",
    "print 'Convergence Error:', coverage_error(y_test, d)\n",
    "print 'Label Ranking loss:', label_ranking_loss(y_test, d)\n",
    "print 'F1-scores(Weighted)', f1_score(y_test, d, average='weighted')\n",
    "print 'F1-scores(Micro)', f1_score(y_test, d, average='micro')\n",
    "print 'F1-scores(Macro)', f1_score(y_test, d, average='macro')\n",
    "print 'F1-scores(Samples)', f1_score(y_test, d, average='samples')\n",
    "print 'Average Precision', average_precision_score(y_test,d)"
   ]
  },
  {
   "cell_type": "code",
   "execution_count": null,
   "metadata": {
    "collapsed": true,
    "deletable": true,
    "editable": true
   },
   "outputs": [],
   "source": []
  },
  {
   "cell_type": "code",
   "execution_count": null,
   "metadata": {
    "collapsed": true,
    "deletable": true,
    "editable": true
   },
   "outputs": [],
   "source": []
  },
  {
   "cell_type": "code",
   "execution_count": null,
   "metadata": {
    "collapsed": true,
    "deletable": true,
    "editable": true
   },
   "outputs": [],
   "source": []
  },
  {
   "cell_type": "code",
   "execution_count": null,
   "metadata": {
    "collapsed": true,
    "deletable": true,
    "editable": true
   },
   "outputs": [],
   "source": []
  },
  {
   "cell_type": "code",
   "execution_count": null,
   "metadata": {
    "collapsed": true,
    "deletable": true,
    "editable": true
   },
   "outputs": [],
   "source": []
  },
  {
   "cell_type": "code",
   "execution_count": null,
   "metadata": {
    "collapsed": true,
    "deletable": true,
    "editable": true
   },
   "outputs": [],
   "source": []
  },
  {
   "cell_type": "code",
   "execution_count": null,
   "metadata": {
    "collapsed": true,
    "deletable": true,
    "editable": true
   },
   "outputs": [],
   "source": []
  }
 ],
 "metadata": {
  "kernelspec": {
   "display_name": "Python 2",
   "language": "python",
   "name": "python2"
  },
  "language_info": {
   "codemirror_mode": {
    "name": "ipython",
    "version": 2
   },
   "file_extension": ".py",
   "mimetype": "text/x-python",
   "name": "python",
   "nbconvert_exporter": "python",
   "pygments_lexer": "ipython2",
   "version": "2.7.14"
  }
 },
 "nbformat": 4,
 "nbformat_minor": 2
}
