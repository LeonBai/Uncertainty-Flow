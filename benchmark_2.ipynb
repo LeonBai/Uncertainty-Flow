{
 "cells": [
  {
   "cell_type": "markdown",
   "metadata": {},
   "source": [
    "# Single Label Training and Multiple Label Prediction \n",
    "\n",
    "## PART A.\n",
    "\n",
    "### Includes Traditional ML multilearning algorithms\n",
    "\n",
    "1.Adapted Algorithms\n",
    "\n",
    "2.Problem Transfomation "
   ]
  },
  {
   "cell_type": "code",
   "execution_count": 1,
   "metadata": {
    "collapsed": false
   },
   "outputs": [],
   "source": [
    "%matplotlib inline\n",
    "import numpy as np\n",
    "import matplotlib.pyplot as plt\n",
    "import skmultilearn\n"
   ]
  },
  {
   "cell_type": "code",
   "execution_count": 2,
   "metadata": {
    "collapsed": false
   },
   "outputs": [
    {
     "name": "stderr",
     "output_type": "stream",
     "text": [
      "Using TensorFlow backend.\n"
     ]
    }
   ],
   "source": [
    "import data_utils\n",
    "\n",
    "Train_x, Train_y, Test_x, Test_y = data_utils.load_data()\n",
    "\n",
    "\n",
    "Train_x = np.asarray(Train_x)\n",
    "Train_y = np.asarray(Train_y)\n",
    "Test_x  = np.asarray(Test_x)\n",
    "Test_y  = np.asarray(Test_y)\n",
    "\n"
   ]
  },
  {
   "cell_type": "code",
   "execution_count": 3,
   "metadata": {
    "collapsed": true
   },
   "outputs": [],
   "source": [
    "## Training and Testing Input\n",
    "\n",
    "X_train_single = Train_x[200:1700]\n",
    "\n",
    "X_test_multi = Train_x[:200]\n",
    "\n"
   ]
  },
  {
   "cell_type": "code",
   "execution_count": 11,
   "metadata": {
    "collapsed": true
   },
   "outputs": [],
   "source": [
    "## Training and Testing Output\n",
    "\n",
    "from sklearn.preprocessing import MultiLabelBinarizer\n",
    "\n",
    "y = np.load('../behav_Exp/pri_sec_emotion.npy')\n",
    "\n",
    "from keras.utils import to_categorical\n",
    "\n",
    "y_train = Train_y[200:1700]\n",
    "y_train = to_categorical(y_train)\n",
    "\n",
    "\n",
    "mlb = MultiLabelBinarizer()\n",
    "y_test = mlb.fit_transform(y)\n"
   ]
  },
  {
   "cell_type": "code",
   "execution_count": 12,
   "metadata": {
    "collapsed": false
   },
   "outputs": [
    {
     "name": "stdout",
     "output_type": "stream",
     "text": [
      "(1500, 7)\n",
      "(200, 7)\n"
     ]
    }
   ],
   "source": [
    "print y_train.shape\n",
    "print y_test.shape"
   ]
  },
  {
   "cell_type": "code",
   "execution_count": 13,
   "metadata": {
    "collapsed": false
   },
   "outputs": [
    {
     "data": {
      "text/plain": [
       "MLkNN(ignore_first_neighbours=0, k=7, s=1.0)"
      ]
     },
     "execution_count": 13,
     "metadata": {},
     "output_type": "execute_result"
    }
   ],
   "source": [
    "from skmultilearn.adapt import MLkNN\n",
    "\n",
    "\n",
    "mlknn_classifier = MLkNN(k=7)\n",
    "\n",
    "\n",
    "mlknn_classifier.fit(X_train_single, y_train)"
   ]
  },
  {
   "cell_type": "code",
   "execution_count": 14,
   "metadata": {
    "collapsed": true
   },
   "outputs": [],
   "source": [
    "pred_mlknn = mlknn_classifier.predict(X_test_multi)\n",
    "\n",
    "pred_proba_mlknn = mlknn_classifier.predict_proba(X_test_multi)"
   ]
  },
  {
   "cell_type": "code",
   "execution_count": 38,
   "metadata": {
    "collapsed": false
   },
   "outputs": [
    {
     "name": "stdout",
     "output_type": "stream",
     "text": [
      "\n"
     ]
    }
   ],
   "source": [
    "pred_mlknn = pred_mlknn.todense()"
   ]
  },
  {
   "cell_type": "code",
   "execution_count": 39,
   "metadata": {
    "collapsed": false
   },
   "outputs": [],
   "source": [
    "from sklearn.metrics import *\n"
   ]
  },
  {
   "cell_type": "code",
   "execution_count": 40,
   "metadata": {
    "collapsed": false
   },
   "outputs": [
    {
     "name": "stdout",
     "output_type": "stream",
     "text": [
      "Accurcy Score Overall: 0.0\n",
      "Jaccard Similarity Score: 0.05\n",
      "Convergence Error: 7.0\n",
      "Label Ranking loss: 0.95\n",
      "F1-scores(Weighted) 0.0654866722224\n",
      "F1-scores(Micro) 0.0907029478458\n",
      "F1-scores(Macro) 0.0625041625042\n",
      "F1-scores(Samples) 0.0666666666667\n",
      "Average Precision 0.34618124656\n"
     ]
    },
    {
     "name": "stderr",
     "output_type": "stream",
     "text": [
      "/usr/local/lib/python2.7/site-packages/sklearn/metrics/classification.py:1113: UndefinedMetricWarning: F-score is ill-defined and being set to 0.0 in labels with no predicted samples.\n",
      "  'precision', 'predicted', average, warn_for)\n",
      "/usr/local/lib/python2.7/site-packages/sklearn/metrics/classification.py:1113: UndefinedMetricWarning: F-score is ill-defined and being set to 0.0 in samples with no predicted labels.\n",
      "  'precision', 'predicted', average, warn_for)\n"
     ]
    }
   ],
   "source": [
    "print 'Hamming Loss:', hamming_loss(y_test, pred_mlknn)\n",
    "print 'Convergence Error:', coverage_error(y_test, pred_mlknn)\n",
    "print 'Label Ranking loss:', label_ranking_loss(y_test, pred_mlknn)\n",
    "print 'F1-scores(Weighted)', f1_score(y_test, pred_mlknn, average='weighted')\n",
    "print 'F1-scores(Micro)', f1_score(y_test, pred_mlknn, average='micro')\n",
    "print 'F1-scores(Macro)', f1_score(y_test, pred_mlknn, average='macro')\n",
    "print 'F1-scores(Samples)', f1_score(y_test, pred_mlknn, average='samples')\n",
    "print 'Average Precision', average_precision_score(y_test, pred_mlknn)"
   ]
  },
  {
   "cell_type": "markdown",
   "metadata": {},
   "source": [
    " ### HARAM"
   ]
  },
  {
   "cell_type": "code",
   "execution_count": 41,
   "metadata": {
    "collapsed": true
   },
   "outputs": [],
   "source": [
    "from skmultilearn.neurofuzzy import MLARAM\n",
    "\n",
    "HARAM_classifier = MLARAM()\n",
    "\n",
    "HARAM_classifier.fit(X_train_single, y_train)"
   ]
  },
  {
   "cell_type": "code",
   "execution_count": 42,
   "metadata": {
    "collapsed": true
   },
   "outputs": [],
   "source": [
    "pred_HARAM = HARAM_classifier.predict(X_test_multi)"
   ]
  },
  {
   "cell_type": "code",
   "execution_count": 43,
   "metadata": {
    "collapsed": false
   },
   "outputs": [
    {
     "name": "stdout",
     "output_type": "stream",
     "text": [
      "Hamming Loss: 0.374285714286\n",
      "Convergence Error: 6.67\n",
      "Label Ranking loss: 0.801\n",
      "F1-scores(Weighted) 0.245762199835\n",
      "F1-scores(Micro) 0.26404494382\n",
      "F1-scores(Macro) 0.246403100314\n",
      "F1-scores(Samples) 0.242166666667\n",
      "Average Precision 0.36930690737\n"
     ]
    }
   ],
   "source": [
    "print 'Hamming Loss:', hamming_loss(y_test, pred_HARAM)\n",
    "print 'Convergence Error:', coverage_error(y_test, pred_HARAM)\n",
    "print 'Label Ranking loss:', label_ranking_loss(y_test, pred_HARAM)\n",
    "print 'F1-scores(Weighted)', f1_score(y_test, pred_HARAM, average='weighted')\n",
    "print 'F1-scores(Micro)', f1_score(y_test, pred_HARAM, average='micro')\n",
    "print 'F1-scores(Macro)', f1_score(y_test, pred_HARAM, average='macro')\n",
    "print 'F1-scores(Samples)', f1_score(y_test, pred_HARAM, average='samples')\n",
    "print 'Average Precision', average_precision_score(y_test, pred_HARAM)"
   ]
  },
  {
   "cell_type": "markdown",
   "metadata": {},
   "source": [
    "### Binary Relevance \n",
    "\n",
    "#### With SVC as base Classifier\n",
    "#### with Naive Bayesian Classifier  as base"
   ]
  },
  {
   "cell_type": "code",
   "execution_count": 44,
   "metadata": {
    "collapsed": false
   },
   "outputs": [
    {
     "data": {
      "text/plain": [
       "BinaryRelevance(classifier=SVC(C=1.0, cache_size=200, class_weight=None, coef0=0.0,\n",
       "  decision_function_shape=None, degree=3, gamma='auto', kernel='rbf',\n",
       "  max_iter=-1, probability=False, random_state=None, shrinking=True,\n",
       "  tol=0.001, verbose=False),\n",
       "        require_dense=[True, True])"
      ]
     },
     "execution_count": 44,
     "metadata": {},
     "output_type": "execute_result"
    }
   ],
   "source": [
    "# with base classifier as SVC\n",
    "\n",
    "from skmultilearn.problem_transform import BinaryRelevance\n",
    "from sklearn.svm import SVC\n",
    "\n",
    "BR_classifier = BinaryRelevance(classifier = SVC(), require_dense= [True, True] )\n",
    "\n",
    "BR_classifier.fit(X_train_single, y_train)"
   ]
  },
  {
   "cell_type": "code",
   "execution_count": 49,
   "metadata": {
    "collapsed": true
   },
   "outputs": [],
   "source": [
    "pred_BR_SVC = BR_classifier.predict(X_test_multi)"
   ]
  },
  {
   "cell_type": "code",
   "execution_count": 50,
   "metadata": {
    "collapsed": false
   },
   "outputs": [],
   "source": [
    "pred_BR_SVC = pred_BR_SVC.toarray()"
   ]
  },
  {
   "cell_type": "code",
   "execution_count": 61,
   "metadata": {
    "collapsed": false
   },
   "outputs": [
    {
     "data": {
      "text/plain": [
       "array([ 0.,  0.,  0.,  0.,  0.,  0.,  0.])"
      ]
     },
     "execution_count": 61,
     "metadata": {},
     "output_type": "execute_result"
    }
   ],
   "source": [
    "pred_BR_SVC[3]"
   ]
  },
  {
   "cell_type": "code",
   "execution_count": 51,
   "metadata": {
    "collapsed": false
   },
   "outputs": [
    {
     "name": "stdout",
     "output_type": "stream",
     "text": [
      "Hamming Loss: 0.275714285714\n",
      "Convergence Error: 7.0\n",
      "Label Ranking loss: 1.0\n",
      "F1-scores(Weighted) 0.0\n",
      "F1-scores(Micro) 0.0\n",
      "F1-scores(Macro) 0.0\n",
      "F1-scores(Samples) 0.0\n",
      "Average Precision 0.637857142857\n"
     ]
    }
   ],
   "source": [
    "print 'Hamming Loss:', hamming_loss(y_test, pred_BR_SVC)\n",
    "print 'Convergence Error:', coverage_error(y_test, pred_BR_SVC)\n",
    "print 'Label Ranking loss:', label_ranking_loss(y_test, pred_BR_SVC)\n",
    "print 'F1-scores(Weighted)', f1_score(y_test, pred_BR_SVC, average='weighted')\n",
    "print 'F1-scores(Micro)', f1_score(y_test, pred_BR_SVC, average='micro')\n",
    "print 'F1-scores(Macro)', f1_score(y_test, pred_BR_SVC, average='macro')\n",
    "print 'F1-scores(Samples)', f1_score(y_test, pred_BR_SVC, average='samples')\n",
    "print 'Average Precision', average_precision_score(y_test, pred_BR_SVC)"
   ]
  },
  {
   "cell_type": "code",
   "execution_count": 73,
   "metadata": {
    "collapsed": true
   },
   "outputs": [],
   "source": [
    "# Label Powerset WITH BASE CLASSIFIER AS naive bayes"
   ]
  },
  {
   "cell_type": "code",
   "execution_count": 68,
   "metadata": {
    "collapsed": false
   },
   "outputs": [
    {
     "data": {
      "text/plain": [
       "LabelPowerset(classifier=GaussianNB(priors=None), require_dense=[True, True])"
      ]
     },
     "execution_count": 68,
     "metadata": {},
     "output_type": "execute_result"
    },
    {
     "name": "stdout",
     "output_type": "stream",
     "text": [
      "\n"
     ]
    }
   ],
   "source": [
    "from skmultilearn.problem_transform import LabelPowerset\n",
    "from sklearn.naive_bayes import GaussianNB\n",
    "\n",
    "# initialize Label Powerset multi-label classifier\n",
    "# with a gaussian naive bayes base classifier\n",
    "classifier = LabelPowerset(classifier = GaussianNB(), require_dense = [True, True])\n",
    "\n",
    "\n",
    "# train\n",
    "classifier.fit(X_train_single,y_train)\n"
   ]
  },
  {
   "cell_type": "code",
   "execution_count": 69,
   "metadata": {
    "collapsed": true
   },
   "outputs": [],
   "source": [
    "pred = classifier.predict(X_test_multi)"
   ]
  },
  {
   "cell_type": "code",
   "execution_count": 70,
   "metadata": {
    "collapsed": true
   },
   "outputs": [],
   "source": [
    "pred = pred.todense()"
   ]
  },
  {
   "cell_type": "code",
   "execution_count": 71,
   "metadata": {
    "collapsed": false
   },
   "outputs": [
    {
     "data": {
      "text/plain": [
       "matrix([[1, 0, 0, 0, 0, 0, 0]])"
      ]
     },
     "execution_count": 71,
     "metadata": {},
     "output_type": "execute_result"
    }
   ],
   "source": [
    "pred[1]"
   ]
  },
  {
   "cell_type": "code",
   "execution_count": 72,
   "metadata": {
    "collapsed": false
   },
   "outputs": [
    {
     "name": "stdout",
     "output_type": "stream",
     "text": [
      "Hamming Loss: 0.328571428571\n",
      "Convergence Error: 6.94\n",
      "Label Ranking loss: 0.8375\n",
      "F1-scores(Weighted) 0.205629388335\n",
      "F1-scores(Micro) 0.215017064846\n",
      "F1-scores(Macro) 0.201173018514\n",
      "F1-scores(Samples) 0.213333333333\n",
      "Average Precision 0.369633065832\n"
     ]
    }
   ],
   "source": [
    "print 'Hamming Loss:', hamming_loss(y_test, pred)\n",
    "print 'Convergence Error:', coverage_error(y_test, pred)\n",
    "print 'Label Ranking loss:', label_ranking_loss(y_test, pred)\n",
    "print 'F1-scores(Weighted)', f1_score(y_test, pred, average='weighted')\n",
    "print 'F1-scores(Micro)', f1_score(y_test, pred, average='micro')\n",
    "print 'F1-scores(Macro)', f1_score(y_test, pred, average='macro')\n",
    "print 'F1-scores(Samples)', f1_score(y_test, pred, average='samples')\n",
    "print 'Average Precision', average_precision_score(y_test, pred)"
   ]
  },
  {
   "cell_type": "code",
   "execution_count": null,
   "metadata": {
    "collapsed": true
   },
   "outputs": [],
   "source": []
  },
  {
   "cell_type": "code",
   "execution_count": null,
   "metadata": {
    "collapsed": true
   },
   "outputs": [],
   "source": []
  },
  {
   "cell_type": "code",
   "execution_count": null,
   "metadata": {
    "collapsed": true
   },
   "outputs": [],
   "source": []
  },
  {
   "cell_type": "code",
   "execution_count": null,
   "metadata": {
    "collapsed": true
   },
   "outputs": [],
   "source": []
  },
  {
   "cell_type": "code",
   "execution_count": null,
   "metadata": {
    "collapsed": true
   },
   "outputs": [],
   "source": []
  },
  {
   "cell_type": "code",
   "execution_count": null,
   "metadata": {
    "collapsed": true
   },
   "outputs": [],
   "source": []
  },
  {
   "cell_type": "code",
   "execution_count": null,
   "metadata": {
    "collapsed": true
   },
   "outputs": [],
   "source": []
  }
 ],
 "metadata": {
  "kernelspec": {
   "display_name": "Python 2",
   "language": "python",
   "name": "python2"
  },
  "language_info": {
   "codemirror_mode": {
    "name": "ipython",
    "version": 2
   },
   "file_extension": ".py",
   "mimetype": "text/x-python",
   "name": "python",
   "nbconvert_exporter": "python",
   "pygments_lexer": "ipython2",
   "version": "2.7.13"
  }
 },
 "nbformat": 4,
 "nbformat_minor": 2
}
